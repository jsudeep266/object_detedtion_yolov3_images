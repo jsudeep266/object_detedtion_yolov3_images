{
 "cells": [
  {
   "cell_type": "code",
   "execution_count": 2,
   "id": "09532d3a",
   "metadata": {},
   "outputs": [
    {
     "name": "stdout",
     "output_type": "stream",
     "text": [
      "Using matplotlib backend: Qt5Agg\n"
     ]
    }
   ],
   "source": [
    "\n",
    "import cv2\n",
    "import matplotlib.pyplot as plt\n",
    "import numpy as np\n",
    "%matplotlib auto"
   ]
  },
  {
   "cell_type": "code",
   "execution_count": 3,
   "id": "6303092e",
   "metadata": {},
   "outputs": [],
   "source": []
  },
  {
   "cell_type": "code",
   "execution_count": 4,
   "id": "2f8da687",
   "metadata": {},
   "outputs": [],
   "source": [
    "## loading yolo models\n",
    "net = cv2.dnn.readNetFromDarknet('yolo3.cfg.cfg','yolov3-spp.weights')"
   ]
  },
  {
   "cell_type": "code",
   "execution_count": 5,
   "id": "035de487",
   "metadata": {},
   "outputs": [],
   "source": [
    "classes = []\n",
    "with open('coco.names','r') as f:\n",
    "    classes = [line.strip() for line in f.readlines()]"
   ]
  },
  {
   "cell_type": "code",
   "execution_count": 7,
   "id": "1eced21b",
   "metadata": {},
   "outputs": [
    {
     "data": {
      "text/plain": [
       "['person',\n",
       " 'bicycle',\n",
       " 'car',\n",
       " 'motorbike',\n",
       " 'aeroplane',\n",
       " 'bus',\n",
       " 'train',\n",
       " 'truck',\n",
       " 'boat',\n",
       " 'traffic light',\n",
       " 'fire hydrant',\n",
       " 'stop sign',\n",
       " 'parking meter',\n",
       " 'bench',\n",
       " 'bird',\n",
       " 'cat',\n",
       " 'dog',\n",
       " 'horse',\n",
       " 'sheep',\n",
       " 'cow',\n",
       " 'elephant',\n",
       " 'bear',\n",
       " 'zebra',\n",
       " 'giraffe',\n",
       " 'backpack',\n",
       " 'umbrella',\n",
       " 'handbag',\n",
       " 'tie',\n",
       " 'suitcase',\n",
       " 'frisbee',\n",
       " 'skis',\n",
       " 'snowboard',\n",
       " 'sports ball',\n",
       " 'kite',\n",
       " 'baseball bat',\n",
       " 'baseball glove',\n",
       " 'skateboard',\n",
       " 'surfboard',\n",
       " 'tennis racket',\n",
       " 'bottle',\n",
       " 'wine glass',\n",
       " 'cup',\n",
       " 'fork',\n",
       " 'knife',\n",
       " 'spoon',\n",
       " 'bowl',\n",
       " 'banana',\n",
       " 'apple',\n",
       " 'sandwich',\n",
       " 'orange',\n",
       " 'broccoli',\n",
       " 'carrot',\n",
       " 'hot dog',\n",
       " 'pizza',\n",
       " 'donut',\n",
       " 'cake',\n",
       " 'chair',\n",
       " 'sofa',\n",
       " 'pottedplant',\n",
       " 'bed',\n",
       " 'diningtable',\n",
       " 'toilet',\n",
       " 'tvmonitor',\n",
       " 'laptop',\n",
       " 'mouse',\n",
       " 'remote',\n",
       " 'keyboard',\n",
       " 'cell phone',\n",
       " 'microwave',\n",
       " 'oven',\n",
       " 'toaster',\n",
       " 'sink',\n",
       " 'refrigerator',\n",
       " 'book',\n",
       " 'clock',\n",
       " 'vase',\n",
       " 'scissors',\n",
       " 'teddy bear',\n",
       " 'hair drier',\n",
       " 'toothbrush']"
      ]
     },
     "execution_count": 7,
     "metadata": {},
     "output_type": "execute_result"
    }
   ],
   "source": [
    "classes"
   ]
  },
  {
   "cell_type": "code",
   "execution_count": 8,
   "id": "03ab1b83",
   "metadata": {},
   "outputs": [],
   "source": [
    "## reading image\n",
    "my_img = cv2.imread('human-dog-cat.jpg')"
   ]
  },
  {
   "cell_type": "code",
   "execution_count": 9,
   "id": "baa1ecd0",
   "metadata": {},
   "outputs": [
    {
     "data": {
      "text/plain": [
       "<matplotlib.image.AxesImage at 0x1a252256490>"
      ]
     },
     "execution_count": 9,
     "metadata": {},
     "output_type": "execute_result"
    }
   ],
   "source": [
    "# plotting image\n",
    "plt.imshow(my_img)"
   ]
  },
  {
   "cell_type": "code",
   "execution_count": 10,
   "id": "8ed6fab0",
   "metadata": {},
   "outputs": [],
   "source": [
    "ht,wt,_ = my_img.shape"
   ]
  },
  {
   "cell_type": "code",
   "execution_count": 11,
   "id": "5103f567",
   "metadata": {},
   "outputs": [],
   "source": [
    "blob = cv2.dnn.blobFromImage(my_img,1/255,(416,416),(0,0,0),swapRB = True,crop = False)"
   ]
  },
  {
   "cell_type": "code",
   "execution_count": 12,
   "id": "abe76256",
   "metadata": {},
   "outputs": [
    {
     "data": {
      "text/plain": [
       "(1, 3, 416, 416)"
      ]
     },
     "execution_count": 12,
     "metadata": {},
     "output_type": "execute_result"
    }
   ],
   "source": [
    "blob.shape"
   ]
  },
  {
   "cell_type": "code",
   "execution_count": 13,
   "id": "eb08100b",
   "metadata": {},
   "outputs": [],
   "source": [
    "net.setInput(blob)"
   ]
  },
  {
   "cell_type": "code",
   "execution_count": 14,
   "id": "657d16c6",
   "metadata": {},
   "outputs": [],
   "source": [
    "last_layer = net.getUnconnectedOutLayersNames()"
   ]
  },
  {
   "cell_type": "code",
   "execution_count": 15,
   "id": "4031b562",
   "metadata": {},
   "outputs": [
    {
     "data": {
      "text/plain": [
       "(array([[0.05020883, 0.03866404, 0.3178353 , ..., 0.        , 0.        ,\n",
       "         0.        ],\n",
       "        [0.03157097, 0.02391413, 0.2919574 , ..., 0.        , 0.        ,\n",
       "         0.        ],\n",
       "        [0.04869965, 0.03405191, 1.1292104 , ..., 0.        , 0.        ,\n",
       "         0.        ],\n",
       "        ...,\n",
       "        [0.9583394 , 0.9477223 , 0.36612514, ..., 0.        , 0.        ,\n",
       "         0.        ],\n",
       "        [0.96540135, 0.9656398 , 0.29243448, ..., 0.        , 0.        ,\n",
       "         0.        ],\n",
       "        [0.9763328 , 0.9659898 , 0.85695267, ..., 0.        , 0.        ,\n",
       "         0.        ]], dtype=float32),\n",
       " array([[0.03502527, 0.02541715, 0.05308253, ..., 0.        , 0.        ,\n",
       "         0.        ],\n",
       "        [0.00431924, 0.02591412, 0.25439876, ..., 0.        , 0.        ,\n",
       "         0.        ],\n",
       "        [0.01667606, 0.01857883, 0.06349   , ..., 0.        , 0.        ,\n",
       "         0.        ],\n",
       "        ...,\n",
       "        [0.9806624 , 0.98008054, 0.03653266, ..., 0.        , 0.        ,\n",
       "         0.        ],\n",
       "        [0.9811716 , 0.98217547, 0.33174703, ..., 0.        , 0.        ,\n",
       "         0.        ],\n",
       "        [0.98359174, 0.98382634, 0.06741561, ..., 0.        , 0.        ,\n",
       "         0.        ]], dtype=float32),\n",
       " array([[0.00652591, 0.010159  , 0.00852056, ..., 0.        , 0.        ,\n",
       "         0.        ],\n",
       "        [0.00717092, 0.01490101, 0.01970097, ..., 0.        , 0.        ,\n",
       "         0.        ],\n",
       "        [0.00650285, 0.00532928, 0.24588248, ..., 0.        , 0.        ,\n",
       "         0.        ],\n",
       "        ...,\n",
       "        [0.99042004, 0.99182904, 0.01460155, ..., 0.        , 0.        ,\n",
       "         0.        ],\n",
       "        [0.9915022 , 0.98905456, 0.02387222, ..., 0.        , 0.        ,\n",
       "         0.        ],\n",
       "        [0.99168676, 0.9906194 , 0.19055769, ..., 0.        , 0.        ,\n",
       "         0.        ]], dtype=float32))"
      ]
     },
     "execution_count": 15,
     "metadata": {},
     "output_type": "execute_result"
    }
   ],
   "source": [
    "layer_out = net.forward(last_layer)\n",
    "layer_out"
   ]
  },
  {
   "cell_type": "code",
   "execution_count": 16,
   "id": "a9975e47",
   "metadata": {},
   "outputs": [
    {
     "data": {
      "text/plain": [
       "(507, 85)"
      ]
     },
     "execution_count": 16,
     "metadata": {},
     "output_type": "execute_result"
    }
   ],
   "source": [
    "layer_out[0].shape"
   ]
  },
  {
   "cell_type": "code",
   "execution_count": 17,
   "id": "be4bad20",
   "metadata": {},
   "outputs": [],
   "source": [
    "boxes = []\n",
    "confidences =[]\n",
    "class_ids =[]\n",
    "\n",
    "for output in layer_out:\n",
    "    for detection in output:\n",
    "        score = detection[5:]\n",
    "        class_id = np.argmax(score)\n",
    "        confidence = score[class_id]\n",
    "        if confidence > .6:\n",
    "            center_x = int(detection[0] * wt)\n",
    "            center_y = int(detection[1] * ht)\n",
    "            w = int(detection[2] * wt)\n",
    "            h = int(detection[3] * ht)\n",
    "            \n",
    "            x = int(center_x - w/2)\n",
    "            y = int(center_y - h/2)\n",
    "            \n",
    "            boxes.append([x,y,w,h])\n",
    "            confidences.append((float(confidence)))\n",
    "            class_ids.append(class_id)"
   ]
  },
  {
   "cell_type": "code",
   "execution_count": 18,
   "id": "88bcb1a6",
   "metadata": {},
   "outputs": [],
   "source": [
    "indexes = cv2.dnn.NMSBoxes(boxes,confidences,.5,.4)"
   ]
  },
  {
   "cell_type": "code",
   "execution_count": 19,
   "id": "bdd7ba95",
   "metadata": {},
   "outputs": [],
   "source": [
    "font = cv2.FONT_HERSHEY_PLAIN\n",
    "colors = np.random.uniform(0,255,size = (len(boxes),3))"
   ]
  },
  {
   "cell_type": "code",
   "execution_count": 20,
   "id": "621053c1",
   "metadata": {},
   "outputs": [],
   "source": [
    "\n",
    "for i in indexes.flatten():\n",
    "    x,y,w,h = boxes[i]\n",
    "    label = str(classes[class_ids[i]])\n",
    "    confidence = str(round(confidences[i],2))\n",
    "    color = colors[i]\n",
    "    cv2.rectangle(my_img,(x,y),(x+w,y+h),color,2)\n",
    "    cv2.putText(my_img, label + \" \"+confidence,(x,y+20),font,2,(0,0,0),2)\n",
    "    \n"
   ]
  },
  {
   "cell_type": "code",
   "execution_count": 21,
   "id": "2f36eb75",
   "metadata": {},
   "outputs": [
    {
     "ename": "AttributeError",
     "evalue": "module 'cv2' has no attribute 'waitkey'",
     "output_type": "error",
     "traceback": [
      "\u001b[1;31m---------------------------------------------------------------------------\u001b[0m",
      "\u001b[1;31mAttributeError\u001b[0m                            Traceback (most recent call last)",
      "\u001b[1;32m~\\AppData\\Local\\Temp/ipykernel_10804/1650225381.py\u001b[0m in \u001b[0;36m<module>\u001b[1;34m\u001b[0m\n\u001b[0;32m      1\u001b[0m \u001b[0mcv2\u001b[0m\u001b[1;33m.\u001b[0m\u001b[0mimshow\u001b[0m\u001b[1;33m(\u001b[0m\u001b[1;34m'img'\u001b[0m\u001b[1;33m,\u001b[0m\u001b[0mmy_img\u001b[0m\u001b[1;33m)\u001b[0m\u001b[1;33m\u001b[0m\u001b[1;33m\u001b[0m\u001b[0m\n\u001b[1;32m----> 2\u001b[1;33m \u001b[0mcv2\u001b[0m\u001b[1;33m.\u001b[0m\u001b[0mwaitkey\u001b[0m\u001b[1;33m(\u001b[0m\u001b[1;36m0\u001b[0m\u001b[1;33m)\u001b[0m\u001b[1;33m\u001b[0m\u001b[1;33m\u001b[0m\u001b[0m\n\u001b[0m\u001b[0;32m      3\u001b[0m \u001b[0mcv2\u001b[0m\u001b[1;33m.\u001b[0m\u001b[0mdestroyAllWindows\u001b[0m\u001b[1;33m(\u001b[0m\u001b[1;33m)\u001b[0m\u001b[1;33m\u001b[0m\u001b[1;33m\u001b[0m\u001b[0m\n",
      "\u001b[1;31mAttributeError\u001b[0m: module 'cv2' has no attribute 'waitkey'"
     ]
    }
   ],
   "source": [
    "cv2.imshow('img',my_img)\n",
    "cv2.waitkey(0)\n",
    "cv2.destroyAllWindows()"
   ]
  },
  {
   "cell_type": "code",
   "execution_count": null,
   "id": "2db20cd6",
   "metadata": {},
   "outputs": [],
   "source": []
  }
 ],
 "metadata": {
  "kernelspec": {
   "display_name": "Python 3 (ipykernel)",
   "language": "python",
   "name": "python3"
  },
  "language_info": {
   "codemirror_mode": {
    "name": "ipython",
    "version": 3
   },
   "file_extension": ".py",
   "mimetype": "text/x-python",
   "name": "python",
   "nbconvert_exporter": "python",
   "pygments_lexer": "ipython3",
   "version": "3.7.0"
  }
 },
 "nbformat": 4,
 "nbformat_minor": 5
}
